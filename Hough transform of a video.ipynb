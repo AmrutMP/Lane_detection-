{
 "cells": [
  {
   "cell_type": "markdown",
   "metadata": {},
   "source": [
    "# import the  Library Files"
   ]
  },
  {
   "cell_type": "code",
   "execution_count": 1,
   "metadata": {},
   "outputs": [],
   "source": [
    "\n",
    "import cv2\n",
    "import numpy as np\n",
    "from matplotlib import pyplot as plt"
   ]
  },
  {
   "cell_type": "markdown",
   "metadata": {},
   "source": [
    "# capture a video, \n",
    "To capture a video, we need to create a VideoCapture object. Its argument can be either the device index or the name of a video file. Device index is just the number to specify which camera. Normally one camera will be connected After that, you can capture frame-by-frame. But at the end, don’t forget to release the capture.\n"
   ]
  },
  {
   "cell_type": "code",
   "execution_count": 2,
   "metadata": {},
   "outputs": [],
   "source": [
    "video = cv2.VideoCapture(\"road_car_view_mp4.mp4\")"
   ]
  },
  {
   "cell_type": "markdown",
   "metadata": {},
   "source": [
    "# After that \n",
    "we can capture frame-by-frame using read() and don't forget to release the capture at the end\n",
    "to come out from the video press esc key (key = 27)"
   ]
  },
  {
   "cell_type": "code",
   "execution_count": 24,
   "metadata": {},
   "outputs": [],
   "source": [
    "video = cv2.VideoCapture(\"road_car_view_mp4.mp4\")\n",
    "while True:\n",
    "    ret, frame = video.read()\n",
    "    if not ret:\n",
    "        video = cv2.VideoCapture(\"road_car_view_mp4.mp4\")\n",
    "        continue\n",
    "    cv2.imshow(\"frame\",frame)\n",
    "    key = cv2.waitKey(25)\n",
    "    if key == 27:\n",
    "        cv2.destroyAllWindows()\n",
    "        break\n",
    "video.release()"
   ]
  },
  {
   "cell_type": "markdown",
   "metadata": {},
   "source": [
    "# apply the Canny edge detection "
   ]
  },
  {
   "cell_type": "code",
   "execution_count": 18,
   "metadata": {},
   "outputs": [],
   "source": [
    "video = cv2.VideoCapture(\"road_car_view_mp4.mp4\")\n",
    "while True:\n",
    "    ret, frame = video.read()\n",
    "    if not ret:\n",
    "        video = cv2.VideoCapture(\"road_car_view_mp4.mp4\")\n",
    "        continue\n",
    "\n",
    "    edges = cv2.Canny(frame,25,170)\n",
    "\n",
    "    cv2.imshow(\"image\", frame)\n",
    "    cv2.imshow(\"edge\",edges)\n",
    "    \n",
    "    \n",
    "    key = cv2.waitKey(25)\n",
    "    if key == 27:\n",
    "        cv2.destroyAllWindows()\n",
    "        break\n",
    "video.release()"
   ]
  },
  {
   "cell_type": "markdown",
   "metadata": {},
   "source": [
    "# In color image processing, \n",
    "there are various models one of which is the hue, saturation, value (HSV) model. Using this model, \n",
    "an object with a certain color can be detected and to reduce the influence of light intensity from the outside.\n",
    "\n",
    "apply the mask for the particular color"
   ]
  },
  {
   "cell_type": "code",
   "execution_count": 22,
   "metadata": {},
   "outputs": [],
   "source": [
    "video = cv2.VideoCapture(\"road_car_view_mp4.mp4\")\n",
    "while True:\n",
    "    ret, frame = video.read()\n",
    "    if not ret:\n",
    "        video = cv2.VideoCapture(\"road_car_view_mp4.mp4\")\n",
    "        continue\n",
    "    hsv = cv2.cvtColor(frame, cv2.COLOR_BGR2HSV)\n",
    "    low_yellow = np.array([18,94,140])\n",
    "    up_yellow = np.array([48,255,255])\n",
    "    mask = cv2.inRange(hsv,low_yellow,up_yellow)\n",
    "    edges = cv2.Canny(mask,75,150)\n",
    "\n",
    "\n",
    "    cv2.imshow(\"mask\", mask)\n",
    "    cv2.imshow(\"edge\",edges)\n",
    "    \n",
    "    \n",
    "    key = cv2.waitKey(25)\n",
    "    if key == 27:\n",
    "        cv2.destroyAllWindows()\n",
    "        break\n",
    "video.release()"
   ]
  },
  {
   "cell_type": "markdown",
   "metadata": {},
   "source": [
    "# Apply the Hough Transform"
   ]
  },
  {
   "cell_type": "code",
   "execution_count": 25,
   "metadata": {},
   "outputs": [],
   "source": [
    "video = cv2.VideoCapture(\"road_car_view_mp4.mp4\")\n",
    "while True:\n",
    "    ret, frame = video.read()\n",
    "    if not ret:\n",
    "        video = cv2.VideoCapture(\"road_car_view.mp4\")\n",
    "        continue\n",
    "    hsv = cv2.cvtColor(frame, cv2.COLOR_BGR2HSV)\n",
    "    low_yellow = np.array([18,94,140])\n",
    "    up_yellow = np.array([48,255,255])\n",
    "    mask = cv2.inRange(hsv,low_yellow,up_yellow)\n",
    "    edges = cv2.Canny(mask,75,150)\n",
    "\n",
    "    lines = cv2.HoughLinesP(edges,1,np.pi/180,50,maxLineGap =50)\n",
    "    if lines is not None:\n",
    "        for line in lines:\n",
    "            x1, y1, x2, y2 = line[0]\n",
    "            cv2.line(frame,(x1,y1),(x2,y2),(0,255,0),2)\n",
    "    cv2.imshow(\"frame\", frame)\n",
    "    cv2.imshow(\"edge\",edges)\n",
    "    \n",
    "    \n",
    "    key = cv2.waitKey(25)\n",
    "    if key == 27:\n",
    "        cv2.destroyAllWindows()\n",
    "        break\n",
    "video.release()\n",
    "    "
   ]
  },
  {
   "cell_type": "code",
   "execution_count": null,
   "metadata": {},
   "outputs": [],
   "source": []
  },
  {
   "cell_type": "code",
   "execution_count": null,
   "metadata": {},
   "outputs": [],
   "source": []
  }
 ],
 "metadata": {
  "kernelspec": {
   "display_name": "Python 3",
   "language": "python",
   "name": "python3"
  },
  "language_info": {
   "codemirror_mode": {
    "name": "ipython",
    "version": 3
   },
   "file_extension": ".py",
   "mimetype": "text/x-python",
   "name": "python",
   "nbconvert_exporter": "python",
   "pygments_lexer": "ipython3",
   "version": "3.7.3"
  }
 },
 "nbformat": 4,
 "nbformat_minor": 2
}
